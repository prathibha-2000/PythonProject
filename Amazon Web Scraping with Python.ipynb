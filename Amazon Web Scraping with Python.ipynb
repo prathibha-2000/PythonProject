{
 "cells": [
  {
   "cell_type": "code",
   "execution_count": 1,
   "id": "037e54d4",
   "metadata": {},
   "outputs": [],
   "source": [
    "# import libraries\n",
    "\n",
    "from bs4 import BeautifulSoup as bs\n",
    "import requests\n",
    "import smtplib\n",
    "import time\n",
    "import datetime\n",
    "\n",
    "import csv\n",
    "\n",
    "import pandas as pd"
   ]
  },
  {
   "cell_type": "code",
   "execution_count": 3,
   "id": "ff127cf6",
   "metadata": {},
   "outputs": [
    {
     "name": "stdout",
     "output_type": "stream",
     "text": [
      "MI Power Bank 3i 20000mAh Lithium Polymer 18W Fast Power Delivery Charging | Input- Type C | Micro USB| Triple Output | Sandstone Black\n",
      "2,049.00\n"
     ]
    }
   ],
   "source": [
    "# Connect to website and extract required data\n",
    "\n",
    "url = \"https://www.amazon.in/20000mAh-Sandstone-Triple-Charging-Delivery/dp/B08HV83HL3/ref=lp_6612025031_1_1?sbo=RZvfv%2F%2FHxDF%2BO5021pAnSA%3D%3D&th=1\"\n",
    "\n",
    "headers = {\"User-Agent\" : \"Mozilla/5.0 (Windows NT 10.0; Win64; x64) AppleWebKit/537.36 (KHTML, like Gecko) Chrome/111.0.0.0 Safari/537.36\"}\n",
    "\n",
    "page = requests.get(url, headers = headers)\n",
    "\n",
    "soup1 = bs(page.content, \"html.parser\")\n",
    "\n",
    "soup2 = bs(soup1.prettify(), \"html.parser\")\n",
    "\n",
    "title = soup2.find(id = \"productTitle\").get_text().strip()\n",
    "\n",
    "price =soup2.find(class_ = \"a-offscreen\").get_text().strip()[1:]\n",
    "\n",
    "today = datetime.date.today()\n",
    "\n",
    "print(title)\n",
    "\n",
    "print(price)\n"
   ]
  },
  {
   "cell_type": "code",
   "execution_count": 4,
   "id": "6de5e5d1",
   "metadata": {},
   "outputs": [],
   "source": [
    "# Creating CSV file with header and add the data into the csv file.\n",
    "\n",
    "header = ['Title', 'Price', 'Date']\n",
    "data= [title, price,today]\n",
    "\n",
    "with open('AmazonWebScraperDataset.csv', 'w', newline = '', encoding = 'UTF8') as f:\n",
    "   writer = csv.writer(f)\n",
    "   writer.writerow(header)\n",
    "   writer.writerow(data)"
   ]
  },
  {
   "cell_type": "code",
   "execution_count": 5,
   "id": "0ea9abf0",
   "metadata": {},
   "outputs": [
    {
     "data": {
      "text/plain": [
       "datetime.date(2023, 3, 25)"
      ]
     },
     "execution_count": 5,
     "metadata": {},
     "output_type": "execute_result"
    }
   ],
   "source": [
    "datetime.date.today()"
   ]
  },
  {
   "cell_type": "code",
   "execution_count": 10,
   "id": "f5fdb18b",
   "metadata": {},
   "outputs": [
    {
     "name": "stdout",
     "output_type": "stream",
     "text": [
      "                                               Title     Price        Date\n",
      "0  MI Power Bank 3i 20000mAh Lithium Polymer 18W ...  2,049.00  2023-03-25\n",
      "1  MI Power Bank 3i 20000mAh Lithium Polymer 18W ...  2,049.00  2023-03-25\n",
      "2  MI Power Bank 3i 20000mAh Lithium Polymer 18W ...  2,049.00  2023-03-25\n",
      "3  MI Power Bank 3i 20000mAh Lithium Polymer 18W ...  2,049.00  2023-03-25\n",
      "4  MI Power Bank 3i 20000mAh Lithium Polymer 18W ...  2,049.00  2023-03-25\n",
      "5  MI Power Bank 3i 20000mAh Lithium Polymer 18W ...  2,049.00  2023-03-25\n",
      "6  MI Power Bank 3i 20000mAh Lithium Polymer 18W ...  2,049.00  2023-03-25\n",
      "7  MI Power Bank 3i 20000mAh Lithium Polymer 18W ...  2,049.00  2023-03-25\n",
      "8  MI Power Bank 3i 20000mAh Lithium Polymer 18W ...  2,049.00  2023-03-25\n"
     ]
    }
   ],
   "source": [
    "#pandas to read the contents of the csv file\n",
    "\n",
    "df = pd.read_csv(r'C:\\Users\\papra\\DA Python Tutorial\\AmazonWebScraperDataset.csv')\n",
    "print(df)\n"
   ]
  },
  {
   "cell_type": "code",
   "execution_count": 7,
   "id": "5ccfbece",
   "metadata": {},
   "outputs": [],
   "source": [
    "# Appending data into the csv\n",
    "\n",
    "with open('AmazonWebScraperDataset.csv', 'a+', newline = '', encoding = 'UTF8') as f:\n",
    "    writer = csv.writer(f)\n",
    "    writer.writerow(data)"
   ]
  },
  {
   "cell_type": "code",
   "execution_count": 8,
   "id": "b35baf57",
   "metadata": {},
   "outputs": [],
   "source": [
    "# Combining all the code snippets into a single function\n",
    "\n",
    "def check_price():\n",
    "    url = \"https://www.amazon.in/20000mAh-Sandstone-Triple-Charging-Delivery/dp/B08HV83HL3/ref=lp_6612025031_1_1?sbo=RZvfv%2F%2FHxDF%2BO5021pAnSA%3D%3D&th=1\"\n",
    "\n",
    "    headers = {\"User-Agent\" : \"Mozilla/5.0 (Windows NT 10.0; Win64; x64) AppleWebKit/537.36 (KHTML, like Gecko) Chrome/111.0.0.0 Safari/537.36\"}\n",
    "\n",
    "    page = requests.get(url, headers = headers)\n",
    "\n",
    "    soup1 = bs(page.content, \"html.parser\")\n",
    "\n",
    "    soup2 = bs(soup1.prettify(), \"html.parser\")\n",
    "\n",
    "    title = soup2.find(id = \"productTitle\").get_text().strip()\n",
    "\n",
    "    price =soup2.find(class_ = \"a-offscreen\").get_text().strip()[1:]\n",
    "\n",
    "    today = datetime.date.today()\n",
    "    \n",
    "    # Creating CSV file to add the dataset\n",
    "    header = ['Title', 'Price', 'Date']\n",
    "    data= [title, price,today]\n",
    "    \n",
    "    with open('AmazonWebScraperDataset.csv', 'a+', newline = '', encoding = 'UTF8') as f:\n",
    "        writer = csv.writer(f)\n",
    "        writer.writerow(data)\n"
   ]
  },
  {
   "cell_type": "code",
   "execution_count": null,
   "id": "8f86b7a2",
   "metadata": {},
   "outputs": [],
   "source": [
    "# Runs check_price for a set time and add the data into the csv\n",
    "\n",
    "while(True):\n",
    "    check_price()\n",
    "    time.sleep(86400)"
   ]
  },
  {
   "cell_type": "code",
   "execution_count": null,
   "id": "6e7c5b8c",
   "metadata": {},
   "outputs": [],
   "source": [
    "# Optional: sending email if price of the product hits certain level\n",
    "\n",
    "def send_mail():\n",
    "    server = smtplib.SMTP_SSL('smtp.gmail.com',465)\n",
    "    server.ehlo()\n",
    "    #server.starttls()\n",
    "    server.ehlo()\n",
    "    server.login('paprathibha@gmail.com','xxxxxxxxxxxxxx')\n",
    "    \n",
    "    subject = \"IT IS TIME!! The price has dropped\"\n",
    "    body = \"Hi, This is the moment we have been waiting for. Now is your chance to pick up the phone of your dreams. Don't mess it up! Link here:https://www.amazon.in/dp/B0BDK62STN\"\n",
    "   \n",
    "    msg = f\"Subject: {subject}\\n\\n{body}\"\n",
    "    \n",
    "    server.sendmail(\n",
    "        'paprathibha@gmail.com',\n",
    "        msg\n",
    "     \n",
    "    )"
   ]
  },
  {
   "cell_type": "code",
   "execution_count": null,
   "id": "2c512f1f",
   "metadata": {},
   "outputs": [],
   "source": []
  }
 ],
 "metadata": {
  "kernelspec": {
   "display_name": "Python 3 (ipykernel)",
   "language": "python",
   "name": "python3"
  },
  "language_info": {
   "codemirror_mode": {
    "name": "ipython",
    "version": 3
   },
   "file_extension": ".py",
   "mimetype": "text/x-python",
   "name": "python",
   "nbconvert_exporter": "python",
   "pygments_lexer": "ipython3",
   "version": "3.10.9"
  }
 },
 "nbformat": 4,
 "nbformat_minor": 5
}
